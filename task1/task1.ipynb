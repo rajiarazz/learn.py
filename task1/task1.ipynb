{
 "cells": [
  {
   "cell_type": "code",
   "execution_count": 1,
   "id": "774deab7",
   "metadata": {},
   "outputs": [
    {
     "name": "stdout",
     "output_type": "stream",
     "text": [
      "your good name, please.rajia\n",
      "Hello\n"
     ]
    },
    {
     "data": {
      "text/plain": [
       "(None, 'rajia')"
      ]
     },
     "execution_count": 1,
     "metadata": {},
     "output_type": "execute_result"
    }
   ],
   "source": [
    "#write a program that uses input to prompt a user for their name and then welcomes them.\n",
    "name= input('your good name, please:');\n",
    "print ('Hello,'+name)"
   ]
  },
  {
   "cell_type": "code",
   "execution_count": 2,
   "id": "26dc5aff",
   "metadata": {},
   "outputs": [
    {
     "name": "stdout",
     "output_type": "stream",
     "text": [
      "enter the celsius temperature:5\n",
      "Fahrenheit:41.0\n"
     ]
    }
   ],
   "source": [
    "#Write a program which prompts the user for a Celsius temperature, convert the temperature to Fahrenheit, and print out the converted temperature.\n",
    "celsius=input(\"enter the celsius temperature:\")\n",
    "celcius=int(celsius)\n",
    "fahrenheit=((celcius*(9/5)+32));\n",
    "print(\"Fahrenheit:\"+str(fahrenheit));\n"
   ]
  },
  {
   "cell_type": "code",
   "execution_count": 3,
   "id": "3a846c82",
   "metadata": {},
   "outputs": [
    {
     "name": "stdout",
     "output_type": "stream",
     "text": [
      "enter the degree value:180\n",
      "radian:3.14\n"
     ]
    }
   ],
   "source": [
    "#Write a Python program to convert degree to radian.\n",
    "degree=input(\"enter the degree value:\")\n",
    "degree=int(degree)\n",
    "radian=(degree*3.14/180);\n",
    "print(\"radian:\"+str(radian));"
   ]
  },
  {
   "cell_type": "code",
   "execution_count": null,
   "id": "2fb20fda",
   "metadata": {},
   "outputs": [],
   "source": []
  }
 ],
 "metadata": {
  "kernelspec": {
   "display_name": "Python 3",
   "language": "python",
   "name": "python3"
  },
  "language_info": {
   "codemirror_mode": {
    "name": "ipython",
    "version": 3
   },
   "file_extension": ".py",
   "mimetype": "text/x-python",
   "name": "python",
   "nbconvert_exporter": "python",
   "pygments_lexer": "ipython3",
   "version": "3.8.8"
  }
 },
 "nbformat": 4,
 "nbformat_minor": 5
}
